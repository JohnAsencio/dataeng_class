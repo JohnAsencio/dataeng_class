{
  "nbformat": 4,
  "nbformat_minor": 0,
  "metadata": {
    "colab": {
      "provenance": []
    },
    "kernelspec": {
      "name": "python3",
      "display_name": "Python 3"
    },
    "language_info": {
      "name": "python"
    }
  },
  "cells": [
    {
      "cell_type": "markdown",
      "source": [
        "#C. [MUST] Validate the Assertions\n",
        "Study the data in an editor or browser. Study it carefully, this data set is non-intuitive!. \\\n",
        "Write python code to read in the test data. You are free to write your code any way you like, but we suggest that you use pandas’ methods for reading csv files into a pandas Dataframe.\n"
      ],
      "metadata": {
        "id": "oQWHrzyB3NJt"
      }
    },
    {
      "cell_type": "markdown",
      "source": [
        "Write python code to validate each of the assertions that you created in part A. The pandas package eases the task of creating data validation code.\\\n",
        "If needed, update your assertions or create new assertions based on your analysis of the data.\n"
      ],
      "metadata": {
        "id": "GtVDgus632nX"
      }
    },
    {
      "cell_type": "code",
      "execution_count": null,
      "metadata": {
        "colab": {
          "base_uri": "https://localhost:8080/"
        },
        "id": "7b4r4PWB11F5",
        "outputId": "eea1511b-7858-4fb0-dc79-eeaf949274eb"
      },
      "outputs": [
        {
          "output_type": "stream",
          "name": "stdout",
          "text": [
            "Requirement already satisfied: pandas in /usr/local/lib/python3.10/dist-packages (2.0.3)\n",
            "Requirement already satisfied: python-dateutil>=2.8.2 in /usr/local/lib/python3.10/dist-packages (from pandas) (2.8.2)\n",
            "Requirement already satisfied: pytz>=2020.1 in /usr/local/lib/python3.10/dist-packages (from pandas) (2023.4)\n",
            "Requirement already satisfied: tzdata>=2022.1 in /usr/local/lib/python3.10/dist-packages (from pandas) (2024.1)\n",
            "Requirement already satisfied: numpy>=1.21.0 in /usr/local/lib/python3.10/dist-packages (from pandas) (1.25.2)\n",
            "Requirement already satisfied: six>=1.5 in /usr/local/lib/python3.10/dist-packages (from python-dateutil>=2.8.2->pandas) (1.16.0)\n"
          ]
        }
      ],
      "source": [
        "pip install pandas\n"
      ]
    },
    {
      "cell_type": "code",
      "source": [
        "import pandas as pd\n",
        "\n",
        "# Read in the test data into a pandas DataFrame\n",
        "df = pd.read_csv(\"/content/Hwy26Crashes2019_S23.csv\")\n",
        "\n",
        "# Display the first few rows of the DataFrame to understand its structure\n",
        "#print(df.head())\n",
        "\n",
        "# Assertion 1: Every crash has an associated county with it\n",
        "crash_records = df[df[\"Record Type\"] == 1]\n",
        "assert crash_records[\"County Code\"].notnull().all(), \"Assertion 1 failed: Not every crash record has an associated location.\"\n",
        "\n",
        "# Assertion 2: Every crash occurred between a weekday\n",
        "assert crash_records[\"Week Day Code\"].between(1, 7).all(), \"Assertion 2 failed: Not every crash occurred between January and July.\"\n",
        "\n",
        "\n",
        "# Assertion 3: If a crash record has a latitude coordinate then it should also have a longitude coordinate\n",
        "assert (crash_records[\"Latitude Degrees\"].notnull() == crash_records[\"Longitude Degrees\"].notnull()).all(), \"Assertion 3 failed: Missing longitude coordinate for some crashes with latitude.\"\n",
        "\n",
        "# Assertion 4: Every crash that involves multiple vehicles data (serial # for crash) lines up\n",
        "multi_vehicle_crashes = crash_records[crash_records[\"Total Vehicle Count\"] > 1]\n",
        "for index, crash in multi_vehicle_crashes.iterrows():\n",
        "    vehicle_ids = df[(df[\"Serial #\"] == crash[\"Serial #\"]) & (df[\"Record Type\"] == 2)][\"Vehicle ID\"]\n",
        "    if len(vehicle_ids.unique()) > 1:\n",
        "        assert False, f\"Assertion 4 failed: Vehicle IDs for crash with Serial # {crash['Serial #']} do not align to the same date.\"\n",
        "\n",
        "# Assertion 5: Every crash has a crash serial number\n",
        "assert crash_records[\"Serial #\"].notnull().all(), \"Assertion 5 failed: Not every crash has a crash serial number.\"\n",
        "\n",
        "# Assertion 6: Most of the crashes didn't involve multiple vehicles\n",
        "assert (crash_records[\"Total Vehicle Count\"] > 1).mean() < 0.5, \"Assertion 6 failed: More than half of the crashes involved multiple vehicles.\"\n",
        "\n",
        "# Assertion 7: Most of the crashes resulted in vehicular and property damages, not fatality.\n",
        "assert (crash_records[\"Total Fatality Count\"] == 0).mean() < 0.5, \"Assertion 7 failed: More than half of the crashes resulted in no fatalities.\"\n",
        "\n",
        "# Assertion 8: Crashes are more frequent on weekdays rather than weekends\n",
        "weekday_crashes = df[df[\"Week Day Code\"].isin([1, 2, 3, 4, 5])]\n",
        "weekend_crashes = df[df[\"Week Day Code\"].isin([6, 7])]\n",
        "assert len(weekday_crashes) > len(weekend_crashes), \"Assertion 8 failed: Weekend crashes are more frequent than weekday crashes.\"\n",
        "\n",
        "# Assertion 9: You can see peak crashes for rush hours (traffic hours)\n",
        "rush_hour_crashes = df[df[\"Crash Hour\"].isin([7, 8, 9, 16, 17, 18])]\n",
        "assert len(rush_hour_crashes) > 0, \"Assertion 9 failed: No peak crashes during rush hours.\"\n",
        "\n",
        "print(\"All assertions passed successfully.\")"
      ],
      "metadata": {
        "colab": {
          "base_uri": "https://localhost:8080/"
        },
        "id": "Q2h_mZTV4B23",
        "outputId": "c5ba2871-baea-4f13-f0f5-ad444dc71727"
      },
      "execution_count": null,
      "outputs": [
        {
          "output_type": "stream",
          "name": "stdout",
          "text": [
            "All assertions passed successfully.\n"
          ]
        }
      ]
    },
    {
      "cell_type": "markdown",
      "source": [
        "I changed the assertions as I was trying to testing to see if I could get them to work."
      ],
      "metadata": {
        "id": "P9Mgr7nO7Sks"
      }
    }
  ]
}